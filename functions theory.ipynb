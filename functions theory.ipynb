{
 "cells": [
  {
   "cell_type": "markdown",
   "id": "b046f073-24f3-4c1e-89b0-2c39d2a17d6d",
   "metadata": {},
   "source": [
    "#Theory based questions"
   ]
  },
  {
   "cell_type": "markdown",
   "id": "0048b8f9-bb7b-4c0e-a6a8-8c46af368b4a",
   "metadata": {},
   "source": [
    "##1. What is the difference between a function and a method in Python?"
   ]
  },
  {
   "cell_type": "code",
   "execution_count": 3,
   "id": "565b5bf5-a253-4a25-84ae-1669c1de004e",
   "metadata": {},
   "outputs": [],
   "source": [
    "#Function:\n",
    "\n",
    "#A function is a standalone block of code that performs a specific task.\n",
    "#It is defined using the def keyword and can be called from anywhere in the program, provided it has been imported or defined in the current scope.\n",
    "#Functions can exist outside of classes and can be used independently."
   ]
  },
  {
   "cell_type": "code",
   "execution_count": 4,
   "id": "fc82a017-e940-4041-a2c9-df2eb80fcf42",
   "metadata": {},
   "outputs": [],
   "source": [
    "def add(a, b):\n",
    "    return a + b\n",
    "\n",
    "result = add(3, 4)  # Calling the function\n"
   ]
  },
  {
   "cell_type": "code",
   "execution_count": 5,
   "id": "227a2ea4-3364-4cb0-8883-29ed9c64e455",
   "metadata": {},
   "outputs": [],
   "source": [
    "#2. Method:\n",
    "#A method is a function that is associated with an object (i.e., it belongs to a class).\n",
    "#Methods are called on instances of classes, and the instance is implicitly passed as the first argument (self).\n",
    "#Methods are essentially functions that are defined inside a class, and they can operate on the data (attributes) contained within the instance of that class."
   ]
  },
  {
   "cell_type": "code",
   "execution_count": 6,
   "id": "386d8ab7-ce92-4ab9-9283-6be4219ccb28",
   "metadata": {},
   "outputs": [],
   "source": [
    "class Calculator:\n",
    "    def add(self, a, b):\n",
    "        return a + b\n",
    "\n",
    "calc = Calculator()\n",
    "result = calc.add(3, 4)  # Calling the method\n"
   ]
  },
  {
   "cell_type": "code",
   "execution_count": 7,
   "id": "8f30d609-aa68-46c8-964b-90093abf73fb",
   "metadata": {},
   "outputs": [],
   "source": [
    "#Key Differences:\n",
    "#Scope: Functions can be defined and used globally, while methods are defined within classes and called on class instances.\n",
    "#Parameter: Methods automatically receive the instance of the class (self) as the first parameter, while functions do not."
   ]
  },
  {
   "cell_type": "markdown",
   "id": "5a09eb6a-687c-43cd-9d3a-c88b701838ae",
   "metadata": {},
   "source": [
    "##2  Explain the concept of function arguments and parameters in Python"
   ]
  },
  {
   "cell_type": "code",
   "execution_count": 9,
   "id": "a2fa74cd-ebd2-4185-a9f7-199d99508314",
   "metadata": {},
   "outputs": [],
   "source": [
    "# Parameters:\n",
    "#Parameters are variables listed in a function’s definition. They are placeholders for the values that will be passed to the function when it is called.\n",
    "#They define what inputs the function expects."
   ]
  },
  {
   "cell_type": "code",
   "execution_count": 34,
   "id": "cdf01aba-f263-4cd3-8420-95ea58c0ce43",
   "metadata": {},
   "outputs": [],
   "source": [
    "def greet(name): #name is the parameter\n",
    "    print(f\"Hello,{name}!\")"
   ]
  },
  {
   "cell_type": "code",
   "execution_count": 31,
   "id": "14b7f134-b93c-4690-bf50-e99d22273137",
   "metadata": {},
   "outputs": [],
   "source": [
    "# Arguments:\n",
    "#Arguments are the actual values or data you pass into the function when calling it.\n",
    "#They are the real data that corresponds to the function’s parameters."
   ]
  },
  {
   "cell_type": "code",
   "execution_count": 35,
   "id": "ca04e197-41a6-401a-9e80-b9b54d6b96e1",
   "metadata": {},
   "outputs": [
    {
     "name": "stdout",
     "output_type": "stream",
     "text": [
      "Hello,Jhilik!\n"
     ]
    }
   ],
   "source": [
    "greet(\"Jhilik\")  # 'Jhilik' is the argument\n"
   ]
  },
  {
   "cell_type": "code",
   "execution_count": 36,
   "id": "38f34c9b-1eb4-4959-8d7c-db5580199eae",
   "metadata": {},
   "outputs": [],
   "source": [
    "#Types of Arguments in Python:\n",
    "#1 Positional Arguments:\n",
    "\n",
    "#These are the most common type, where the arguments are passed in the same order as the parameters are defined."
   ]
  },
  {
   "cell_type": "code",
   "execution_count": 37,
   "id": "5266810d-93fa-4d98-b2de-622824b2777b",
   "metadata": {},
   "outputs": [],
   "source": [
    "def add(a, b):\n",
    "    return a + b\n",
    "\n",
    "result = add(3, 4)  # 3 and 4 are positional arguments\n"
   ]
  },
  {
   "cell_type": "code",
   "execution_count": 38,
   "id": "33664a55-8b83-4691-8088-09150195c949",
   "metadata": {},
   "outputs": [],
   "source": [
    "#2 Keyword Arguments:\n",
    "\n",
    "#You can specify the arguments by name when calling the function. This allows you to pass values in any order."
   ]
  },
  {
   "cell_type": "code",
   "execution_count": 39,
   "id": "02b1506d-714c-4abc-9237-74b43edb2da7",
   "metadata": {},
   "outputs": [],
   "source": [
    "result = add(b=4, a=3)  # Keyword arguments allow passing in any order\n"
   ]
  },
  {
   "cell_type": "code",
   "execution_count": 40,
   "id": "087b9595-23fe-43f5-9316-e08bc8ae17b5",
   "metadata": {},
   "outputs": [],
   "source": [
    "#3 Default Arguments:\n",
    "\n",
    "#You can assign default values to parameters. If an argument isn’t provided, the default value will be used."
   ]
  },
  {
   "cell_type": "code",
   "execution_count": 42,
   "id": "8ca3b4e6-66ba-4d90-9851-dbf61e98eef5",
   "metadata": {},
   "outputs": [
    {
     "name": "stdout",
     "output_type": "stream",
     "text": [
      "Hello, Guest!\n",
      "Hello, Jhilik!\n"
     ]
    }
   ],
   "source": [
    "def greet(name=\"Guest\"):\n",
    "    print(f\"Hello, {name}!\")\n",
    "\n",
    "greet()  \n",
    "greet(\"Jhilik\")  \n"
   ]
  },
  {
   "cell_type": "code",
   "execution_count": 43,
   "id": "c47c89f1-5993-4d10-a4db-9fcb64a92858",
   "metadata": {},
   "outputs": [],
   "source": [
    "#3 Variable-Length Arguments:\n",
    "\n",
    "#Python allows you to pass an arbitrary number of arguments to a function using *args (for positional arguments) and **kwargs (for keyword arguments)."
   ]
  },
  {
   "cell_type": "code",
   "execution_count": 46,
   "id": "97af0bb8-18ad-40d8-85e4-27449cc8d646",
   "metadata": {},
   "outputs": [
    {
     "data": {
      "text/plain": [
       "10"
      ]
     },
     "execution_count": 46,
     "metadata": {},
     "output_type": "execute_result"
    }
   ],
   "source": [
    "def add_all(*args):\n",
    "    return sum(args)\n",
    "\n",
    "result = add_all(1, 2, 3, 4)\n",
    "result\n"
   ]
  },
  {
   "cell_type": "code",
   "execution_count": 47,
   "id": "2b9880db-1784-40b8-a696-6465f4000d1d",
   "metadata": {},
   "outputs": [
    {
     "name": "stdout",
     "output_type": "stream",
     "text": [
      "name: Jhilik\n",
      "age: 22\n"
     ]
    }
   ],
   "source": [
    "def print_info(**kwargs):\n",
    "    for key, value in kwargs.items():\n",
    "        print(f\"{key}: {value}\")\n",
    "\n",
    "print_info(name=\"Jhilik\", age=22)  \n"
   ]
  },
  {
   "cell_type": "markdown",
   "id": "7f9289b6-8737-4afd-9318-b3e933e05861",
   "metadata": {},
   "source": [
    "##3. What are the different ways to define and call a function in Python?"
   ]
  },
  {
   "cell_type": "code",
   "execution_count": 49,
   "id": "28a1e574-5604-4d01-9c9b-17a7d4223ece",
   "metadata": {},
   "outputs": [],
   "source": [
    "#a Regular Function Definition\n",
    "#This is the most common way to define a function using the def keyword."
   ]
  },
  {
   "cell_type": "code",
   "execution_count": 50,
   "id": "babd0bc2-2d3e-42a5-be3b-03d8addc3e26",
   "metadata": {},
   "outputs": [
    {
     "name": "stdout",
     "output_type": "stream",
     "text": [
      "Hello, Jhilik!\n"
     ]
    }
   ],
   "source": [
    "def greet(name):\n",
    "    return f\"Hello, {name}!\"\n",
    "\n",
    "# Calling the function\n",
    "message = greet(\"Jhilik\")\n",
    "print(message)  \n"
   ]
  },
  {
   "cell_type": "code",
   "execution_count": 51,
   "id": "8ac4b522-b0dc-40f7-836f-81a94fe458da",
   "metadata": {},
   "outputs": [],
   "source": [
    "#b. Default Arguments\n",
    "#You can provide default values for parameters in function definitions. If no argument is passed, the default value will be used."
   ]
  },
  {
   "cell_type": "code",
   "execution_count": 52,
   "id": "a5c38e51-2477-4a11-9743-421e0d5cfcde",
   "metadata": {},
   "outputs": [
    {
     "name": "stdout",
     "output_type": "stream",
     "text": [
      "Hello, Guest!\n",
      "Hello, Jhilik!\n"
     ]
    }
   ],
   "source": [
    "def greet(name=\"Guest\"):\n",
    "    return f\"Hello, {name}!\"\n",
    "\n",
    "# Calling the function\n",
    "print(greet())         \n",
    "print(greet(\"Jhilik\"))  \n"
   ]
  },
  {
   "cell_type": "code",
   "execution_count": 53,
   "id": "a3ae8872-99ae-46b7-b69b-c401aead29c9",
   "metadata": {},
   "outputs": [],
   "source": [
    "#c Keyword Arguments\n",
    "#When calling a function, you can specify arguments by the parameter name, allowing you to pass arguments in any order."
   ]
  },
  {
   "cell_type": "code",
   "execution_count": 55,
   "id": "f51a5b2e-abe1-4c79-9c23-340a7689d3af",
   "metadata": {},
   "outputs": [
    {
     "name": "stdout",
     "output_type": "stream",
     "text": [
      "Jhilik D Rozario\n",
      "Jhilik D Rozario\n"
     ]
    }
   ],
   "source": [
    "def introduce(first_name, last_name):\n",
    "    return f\"{first_name} {last_name}\"\n",
    "\n",
    "# Calling the function\n",
    "print(introduce(first_name=\"Jhilik\", last_name=\"D Rozario\"))  \n",
    "print(introduce(last_name=\"D Rozario\", first_name=\"Jhilik\"))  \n"
   ]
  },
  {
   "cell_type": "code",
   "execution_count": 56,
   "id": "5e874b5b-8c08-405c-a771-f510d17f7888",
   "metadata": {},
   "outputs": [],
   "source": [
    "#d  Variable-Length Arguments\n",
    "#There are two special symbols used for defining variable-length arguments:\n",
    "\n",
    "#*args: For positional arguments.\n",
    "#**kwargs: For keyword arguments."
   ]
  },
  {
   "cell_type": "code",
   "execution_count": 57,
   "id": "20904061-763c-45ff-ad46-7ba6c89c1459",
   "metadata": {},
   "outputs": [
    {
     "name": "stdout",
     "output_type": "stream",
     "text": [
      "10\n"
     ]
    }
   ],
   "source": [
    "def add_numbers(*args):\n",
    "    return sum(args)\n",
    "\n",
    "# Calling the function\n",
    "print(add_numbers(1, 2, 3, 4))  \n"
   ]
  },
  {
   "cell_type": "code",
   "execution_count": 58,
   "id": "4263cfff-ae24-49b4-90fb-004d4866691f",
   "metadata": {},
   "outputs": [
    {
     "name": "stdout",
     "output_type": "stream",
     "text": [
      "name: Jhilik\n",
      "age: 22\n"
     ]
    }
   ],
   "source": [
    "def print_info(**kwargs):\n",
    "    for key, value in kwargs.items():\n",
    "        print(f\"{key}: {value}\")\n",
    "\n",
    "# Calling the function\n",
    "print_info(name=\"Jhilik\", age=22)  "
   ]
  },
  {
   "cell_type": "code",
   "execution_count": 59,
   "id": "01101c4c-18d7-4466-9cb2-8fe80115992c",
   "metadata": {},
   "outputs": [],
   "source": [
    "#d Lambda (Anonymous) Functions\n",
    "#Lambda functions are anonymous, small, one-line functions defined using the lambda keyword. They can have any number of arguments but only one expression."
   ]
  },
  {
   "cell_type": "code",
   "execution_count": 61,
   "id": "104b2c7f-2e4e-4fca-ad52-a27c9d78d9a5",
   "metadata": {},
   "outputs": [
    {
     "name": "stdout",
     "output_type": "stream",
     "text": [
      "7\n"
     ]
    }
   ],
   "source": [
    "add = lambda a, b: a + b\n",
    "\n",
    "# Calling the lambda function\n",
    "result = add(3, 4)\n",
    "print(result)  \n"
   ]
  },
  {
   "cell_type": "code",
   "execution_count": 62,
   "id": "260f8449-5b53-4efa-966a-8e47eb820b5e",
   "metadata": {},
   "outputs": [],
   "source": [
    "#e Higher-Order Functions\n",
    "#A higher-order function is a function that either takes another function as an argument or returns a function as a result."
   ]
  },
  {
   "cell_type": "code",
   "execution_count": 63,
   "id": "f76fe8dc-49c7-4282-bced-5a4119c9283e",
   "metadata": {},
   "outputs": [
    {
     "name": "stdout",
     "output_type": "stream",
     "text": [
      "25\n"
     ]
    }
   ],
   "source": [
    "def apply_function(func, value):\n",
    "    return func(value)\n",
    "\n",
    "# Defining a regular function\n",
    "def square(x):\n",
    "    return x ** 2\n",
    "\n",
    "# Calling the higher-order function\n",
    "result = apply_function(square, 5)\n",
    "print(result)  \n"
   ]
  },
  {
   "cell_type": "code",
   "execution_count": 64,
   "id": "ceb19082-fafe-4ae7-a1b1-b479fbf06d67",
   "metadata": {},
   "outputs": [],
   "source": [
    "#f Nested Functions\n",
    "#Functions can be defined inside other functions, creating nested functions. These are useful for encapsulating functionality within another function."
   ]
  },
  {
   "cell_type": "code",
   "execution_count": 65,
   "id": "f0a43bc3-777a-453d-a83b-5a2f3b03efb7",
   "metadata": {},
   "outputs": [
    {
     "name": "stdout",
     "output_type": "stream",
     "text": [
      "HELLO\n"
     ]
    }
   ],
   "source": [
    "def outer_function(text):\n",
    "    def inner_function():\n",
    "        return text.upper()\n",
    "    return inner_function()\n",
    "\n",
    "# Calling the function\n",
    "print(outer_function(\"hello\"))  \n"
   ]
  },
  {
   "cell_type": "code",
   "execution_count": 66,
   "id": "ffbf7524-de2b-4aba-af3e-446ff90bb0d0",
   "metadata": {},
   "outputs": [],
   "source": [
    "#g Recursive Functions\n",
    "#A recursive function is one that calls itself until a certain condition is met."
   ]
  },
  {
   "cell_type": "code",
   "execution_count": 67,
   "id": "ecf134dc-254a-4632-bb70-72d05ac9d0ec",
   "metadata": {},
   "outputs": [
    {
     "name": "stdout",
     "output_type": "stream",
     "text": [
      "120\n"
     ]
    }
   ],
   "source": [
    "def factorial(n):\n",
    "    if n == 1:\n",
    "        return 1\n",
    "    else:\n",
    "        return n * factorial(n - 1)\n",
    "\n",
    "# Calling the function\n",
    "print(factorial(5))  \n"
   ]
  },
  {
   "cell_type": "code",
   "execution_count": 68,
   "id": "71e25ccb-5fa0-4fb1-8551-bc10e642dff8",
   "metadata": {},
   "outputs": [],
   "source": [
    "#h  Calling Functions from Other Modules\n",
    "#You can also call functions from external modules by importing them."
   ]
  },
  {
   "cell_type": "code",
   "execution_count": 69,
   "id": "69b3fe22-b90e-4e06-8c09-49b1e443d7e5",
   "metadata": {},
   "outputs": [
    {
     "name": "stdout",
     "output_type": "stream",
     "text": [
      "4.0\n"
     ]
    }
   ],
   "source": [
    "# Importing math module\n",
    "import math\n",
    "\n",
    "# Calling the sqrt function from the math module\n",
    "result = math.sqrt(16)\n",
    "print(result)  \n"
   ]
  },
  {
   "cell_type": "code",
   "execution_count": 70,
   "id": "1d0bab13-eff5-4a81-a7e0-73e4fb49b140",
   "metadata": {},
   "outputs": [],
   "source": [
    "#i Partial Functions\n",
    "#In Python, you can create partial functions using the functools.partial function, which allows you to fix a certain number of arguments of a function and generate a new function."
   ]
  },
  {
   "cell_type": "code",
   "execution_count": 71,
   "id": "083553f4-778e-44ea-a3e7-9ca5631692a4",
   "metadata": {},
   "outputs": [
    {
     "name": "stdout",
     "output_type": "stream",
     "text": [
      "10\n"
     ]
    }
   ],
   "source": [
    "from functools import partial\n",
    "\n",
    "def multiply(x, y):\n",
    "    return x * y\n",
    "\n",
    "# Creating a partial function that multiplies by 2\n",
    "double = partial(multiply, 2)\n",
    "\n",
    "# Calling the partial function\n",
    "print(double(5))  \n"
   ]
  },
  {
   "cell_type": "markdown",
   "id": "a6aa9901-b7ed-43ee-bddc-0581ab17de73",
   "metadata": {},
   "source": [
    "##4  What is the purpose of the `return` statement in a Python function?"
   ]
  },
  {
   "cell_type": "code",
   "execution_count": 72,
   "id": "d48b968a-7e00-4668-97f5-501bc1f7f82c",
   "metadata": {},
   "outputs": [],
   "source": [
    "#a  Returning a Value from a Function\n",
    "#The primary purpose of the return statement is to send a value (or multiple values) back to the caller of the function. When the return statement is encountered, the function execution stops, and the specified value is returned to the point where the function was called."
   ]
  },
  {
   "cell_type": "code",
   "execution_count": 73,
   "id": "0c9953d1-c656-40a5-9139-035bcc0be909",
   "metadata": {},
   "outputs": [
    {
     "name": "stdout",
     "output_type": "stream",
     "text": [
      "7\n"
     ]
    }
   ],
   "source": [
    "def add(a, b):\n",
    "    return a + b\n",
    "\n",
    "# Calling the function and storing the result\n",
    "result = add(3, 4)\n",
    "print(result)  \n"
   ]
  },
  {
   "cell_type": "code",
   "execution_count": 74,
   "id": "095447cc-fde6-4050-b166-85bddd3af575",
   "metadata": {},
   "outputs": [],
   "source": [
    "#b  Ending a Function's Execution\n",
    "#The return statement also terminates the function’s execution when it is reached. Code after the return statement inside the function is not executed."
   ]
  },
  {
   "cell_type": "code",
   "execution_count": 75,
   "id": "8833804f-50a4-4fa3-a9df-dda661ebc6d6",
   "metadata": {},
   "outputs": [
    {
     "name": "stdout",
     "output_type": "stream",
     "text": [
      "Even\n"
     ]
    }
   ],
   "source": [
    "def check_even_odd(number):\n",
    "    if number % 2 == 0:\n",
    "        return \"Even\"\n",
    "    return \"Odd\"\n",
    "\n",
    "print(check_even_odd(4))  "
   ]
  },
  {
   "cell_type": "code",
   "execution_count": 76,
   "id": "297b7c2c-8db1-4868-bfb0-c379fcbf56e8",
   "metadata": {},
   "outputs": [],
   "source": [
    "#c Returning Multiple Values\n",
    "#Python allows a function to return multiple values by returning them as a tuple."
   ]
  },
  {
   "cell_type": "code",
   "execution_count": 77,
   "id": "49e70fe8-9e41-4f46-9286-664df0fd3f0c",
   "metadata": {},
   "outputs": [
    {
     "name": "stdout",
     "output_type": "stream",
     "text": [
      "8\n",
      "2\n"
     ]
    }
   ],
   "source": [
    "def calculate(a, b):\n",
    "    return a + b, a - b\n",
    "\n",
    "# Unpacking the returned tuple into two variables\n",
    "sum_result, diff_result = calculate(5, 3)\n",
    "print(sum_result)   \n",
    "print(diff_result) \n"
   ]
  },
  {
   "cell_type": "code",
   "execution_count": 78,
   "id": "f8b9e3f9-8177-4f7d-9792-93c0e0237abd",
   "metadata": {},
   "outputs": [],
   "source": [
    "#d Returning None\n",
    "#If a function does not include a return statement, or if the return statement is written without an expression, Python automatically returns None. This signifies that the function did not explicitly return a value"
   ]
  },
  {
   "cell_type": "code",
   "execution_count": 79,
   "id": "54fef6bd-1f50-4187-8a95-89b74771a16d",
   "metadata": {},
   "outputs": [
    {
     "name": "stdout",
     "output_type": "stream",
     "text": [
      "Hello, Jhilik!\n",
      "None\n"
     ]
    }
   ],
   "source": [
    "def greet(name):\n",
    "    print(f\"Hello, {name}!\")\n",
    "\n",
    "# This function doesn't have a return statement\n",
    "result = greet(\"Jhilik\")\n",
    "print(result)  "
   ]
  },
  {
   "cell_type": "markdown",
   "id": "1222fdc5-d3d8-489a-961b-fbf9098799d8",
   "metadata": {},
   "source": [
    "##5  What are iterators in Python and how do they differ from iterables?"
   ]
  },
  {
   "cell_type": "code",
   "execution_count": 80,
   "id": "e55855e2-b4d9-43ee-bb91-61e0bf95adca",
   "metadata": {},
   "outputs": [],
   "source": [
    "#Iterable: An object that can return an iterator, typically something you can loop over (like lists, strings, dictionaries).\n",
    "\n",
    "#Iterator: An object that tracks its current position and produces elements one by one, using __next__() until it raises StopIteration.\n",
    "\n",
    "#Key difference: An iterable can be converted into an iterator using iter(), while an iterator already has the ability to produce the next item in a sequence using next()."
   ]
  },
  {
   "cell_type": "code",
   "execution_count": 81,
   "id": "a20adfff-ec57-48e7-9c04-88449bb27e40",
   "metadata": {},
   "outputs": [
    {
     "name": "stdout",
     "output_type": "stream",
     "text": [
      "1\n",
      "2\n",
      "3\n"
     ]
    }
   ],
   "source": [
    "# A list is an iterable\n",
    "my_list = [1, 2, 3]\n",
    "\n",
    "# You can loop over it with a for loop\n",
    "for item in my_list:\n",
    "    print(item)\n"
   ]
  },
  {
   "cell_type": "code",
   "execution_count": 82,
   "id": "3035cf72-0185-49a3-9260-4afe427b3872",
   "metadata": {},
   "outputs": [
    {
     "name": "stdout",
     "output_type": "stream",
     "text": [
      "1\n",
      "2\n",
      "3\n"
     ]
    }
   ],
   "source": [
    "# Create an iterator from an iterable (a list in this case)\n",
    "my_list = [1, 2, 3]\n",
    "my_iterator = iter(my_list)\n",
    "\n",
    "# Fetching elements one at a time\n",
    "print(next(my_iterator))  \n",
    "print(next(my_iterator))  \n",
    "print(next(my_iterator))  \n"
   ]
  },
  {
   "cell_type": "markdown",
   "id": "cdbb74b4-ee04-4ad4-8cbb-d3e4d8d0051e",
   "metadata": {},
   "source": [
    "##6 Explain the concept of generators in Python and how they are defined."
   ]
  },
  {
   "cell_type": "code",
   "execution_count": 83,
   "id": "043f192b-2d6a-4fd2-a099-4037b9c2a10e",
   "metadata": {},
   "outputs": [],
   "source": [
    "#In Python, generators are a special type of iterable that allow you to iterate through a sequence of values lazily (one at a time), rather than generating all the values at once and storing them in memory. They are used to create iterators and are particularly useful when working with large datasets or streams of data where it's more efficient to generate values on demand."
   ]
  },
  {
   "cell_type": "code",
   "execution_count": 84,
   "id": "a30fb338-975e-474a-93aa-6daff7d76b91",
   "metadata": {},
   "outputs": [],
   "source": [
    "#How Generators Work\n",
    "#A generator function is defined using the def keyword just like a regular function, but it contains one or more yield statements.\n",
    "#Each time the generator's next() method is called, the function runs until it encounters a yield, which produces a value and pauses the function.\n",
    "#The generator function's state is saved between yield calls, so when next() is called again, the function resumes from where it left off."
   ]
  },
  {
   "cell_type": "code",
   "execution_count": 85,
   "id": "e399f58b-fc94-46bb-b753-c619f881f27e",
   "metadata": {},
   "outputs": [
    {
     "name": "stdout",
     "output_type": "stream",
     "text": [
      "1\n",
      "2\n",
      "3\n"
     ]
    }
   ],
   "source": [
    "def simple_generator():\n",
    "    yield 1\n",
    "    yield 2\n",
    "    yield 3\n",
    "\n",
    "# Using the generator\n",
    "gen = simple_generator()\n",
    "\n",
    "print(next(gen))  \n",
    "print(next(gen)) \n",
    "print(next(gen))  "
   ]
  },
  {
   "cell_type": "markdown",
   "id": "06993024-27f5-412d-96f2-08f487f2caf0",
   "metadata": {},
   "source": [
    "##7  What are the advantages of using generators over regular functions?"
   ]
  },
  {
   "cell_type": "code",
   "execution_count": 87,
   "id": "46f18da9-dbd5-47e1-84a5-c07eb469f7c4",
   "metadata": {},
   "outputs": [],
   "source": [
    "#Advantages of Generators\n",
    "#1 Memory Efficiency: Unlike lists or other collections, generators don't store values in memory. They yield values one by one, making them ideal for large datasets or infinite sequences.\n",
    "\n",
    "#Example: If you need to generate the first 1 million numbers, a generator will do so without requiring 1 million numbers to be stored in memory.\n"
   ]
  },
  {
   "cell_type": "code",
   "execution_count": 93,
   "id": "c9918870-4bda-404d-aa96-4f08ee8324d0",
   "metadata": {},
   "outputs": [
    {
     "name": "stdout",
     "output_type": "stream",
     "text": [
      "0\n",
      "1\n",
      "2\n",
      "3\n",
      "4\n",
      "5\n",
      "6\n",
      "7\n",
      "8\n",
      "9\n"
     ]
    }
   ],
   "source": [
    "# Generator to yield numbers one by one\n",
    "def generate_numbers(n):\n",
    "    for i in range(n):\n",
    "        yield i\n",
    "\n",
    "# Using the generator (memory efficient)\n",
    "for number in generate_numbers(10):\n",
    "    print(number)\n"
   ]
  },
  {
   "cell_type": "code",
   "execution_count": 88,
   "id": "d4bd4064-82b1-4334-ab9b-64cf2054e0e6",
   "metadata": {},
   "outputs": [],
   "source": [
    "def infinite_sequence():\n",
    "    num = 0\n",
    "    while True:\n",
    "        yield num\n",
    "        num += 1\n"
   ]
  },
  {
   "cell_type": "code",
   "execution_count": 89,
   "id": "b969646d-d038-4204-bcd3-076e15554b4c",
   "metadata": {},
   "outputs": [],
   "source": [
    "#2 Infinite Sequences: Generators are particularly well-suited for defining infinite sequences, as they don’t compute all elements at once. Instead, values are generated on demand."
   ]
  },
  {
   "cell_type": "code",
   "execution_count": 90,
   "id": "1e610ce3-09e1-491c-a867-4e33027b32a2",
   "metadata": {},
   "outputs": [],
   "source": [
    "#3 State Retention: Generators retain their state between yield calls. This allows complex iteration logic without having to manage external variables manually."
   ]
  },
  {
   "cell_type": "markdown",
   "id": "9d734ab5-4e80-48d2-a517-14ceb420842c",
   "metadata": {},
   "source": [
    "##8  What is a lambda function in Python and when is it typically used?"
   ]
  },
  {
   "cell_type": "code",
   "execution_count": 94,
   "id": "33219cf3-a4c3-4b74-9ae7-f0738a1febff",
   "metadata": {},
   "outputs": [],
   "source": [
    "#A lambda function in Python is a small, anonymous function that is defined using the lambda keyword. Unlike regular functions that are defined using the def keyword and given a name, lambda functions are unnamed (anonymous) and are typically used for short, throwaway tasks where a full function definition would be overkill."
   ]
  },
  {
   "cell_type": "code",
   "execution_count": 95,
   "id": "18565d97-fac9-4767-a7ec-194ff2ac0964",
   "metadata": {},
   "outputs": [
    {
     "name": "stdout",
     "output_type": "stream",
     "text": [
      "8\n"
     ]
    }
   ],
   "source": [
    "# Lambda function to add two numbers\n",
    "add = lambda x, y: x + y\n",
    "\n",
    "# Using the lambda function\n",
    "result = add(3, 5)\n",
    "print(result)  "
   ]
  },
  {
   "cell_type": "code",
   "execution_count": 96,
   "id": "a27d7f7a-3362-4781-b03a-da3cdfbcb97c",
   "metadata": {},
   "outputs": [],
   "source": [
    "#Lambda functions are typically used in situations where you need a small, short-lived function, often as an argument to another function. They are useful in the following scenarios:"
   ]
  },
  {
   "cell_type": "code",
   "execution_count": 97,
   "id": "cb902779-0ee2-4113-b5dc-4310f1c27f9c",
   "metadata": {},
   "outputs": [],
   "source": [
    "#1 As an Argument to Higher-Order Functions: \n",
    "#Many built-in functions like map(), filter(), and sorted() accept other functions as arguments. Lambda functions are commonly used in these cases because they provide a concise way to define simple behavior directly where it is needed."
   ]
  },
  {
   "cell_type": "code",
   "execution_count": 98,
   "id": "fc7af352-f632-4391-94ef-04208f314c33",
   "metadata": {},
   "outputs": [
    {
     "name": "stdout",
     "output_type": "stream",
     "text": [
      "[1, 4, 9, 16, 25]\n"
     ]
    }
   ],
   "source": [
    "numbers = [1, 2, 3, 4, 5]\n",
    "\n",
    "# Use lambda function to square each number\n",
    "squares = list(map(lambda x: x * x, numbers))\n",
    "print(squares) "
   ]
  },
  {
   "cell_type": "code",
   "execution_count": 99,
   "id": "b6663062-cb92-4f08-beb9-a1186a9deb11",
   "metadata": {},
   "outputs": [
    {
     "name": "stdout",
     "output_type": "stream",
     "text": [
      "[2, 4]\n"
     ]
    }
   ],
   "source": [
    "# Filter out odd numbers using lambda function\n",
    "even_numbers = list(filter(lambda x: x % 2 == 0, numbers))\n",
    "print(even_numbers)  "
   ]
  },
  {
   "cell_type": "code",
   "execution_count": null,
   "id": "12c9ef8b-ba9f-4020-99f0-3298aceb3326",
   "metadata": {},
   "outputs": [],
   "source": [
    "#2 In Sorting or Custom Key Functions: \n",
    "#Lambda functions are often used with the sorted() function or other functions that need a key, allowing you to define a custom sorting rule without defining a separate function."
   ]
  },
  {
   "cell_type": "code",
   "execution_count": 100,
   "id": "1e0fceaa-0a58-4b91-affa-3c9e89719646",
   "metadata": {},
   "outputs": [
    {
     "name": "stdout",
     "output_type": "stream",
     "text": [
      "[(4, 1), (1, 2), (3, 3), (2, 5)]\n"
     ]
    }
   ],
   "source": [
    "# List of tuples\n",
    "points = [(2, 5), (1, 2), (4, 1), (3, 3)]\n",
    "\n",
    "# Sort points by the second value in each tuple\n",
    "sorted_points = sorted(points, key=lambda x: x[1])\n",
    "print(sorted_points) "
   ]
  },
  {
   "cell_type": "code",
   "execution_count": 101,
   "id": "d2335c14-3741-4c27-97a2-b7ad66c70973",
   "metadata": {},
   "outputs": [],
   "source": [
    "#3 As Short Inline Functions: \n",
    "#Lambda functions are useful for defining simple, one-off functions that are not reused elsewhere in the code, making your code more compact."
   ]
  },
  {
   "cell_type": "code",
   "execution_count": 102,
   "id": "8f6181d6-7baf-43a3-88ba-e61ca34f68e8",
   "metadata": {},
   "outputs": [
    {
     "name": "stdout",
     "output_type": "stream",
     "text": [
      "28\n"
     ]
    }
   ],
   "source": [
    "# A lambda function for quick calculation\n",
    "multiply = lambda a, b: a * b\n",
    "\n",
    "result = multiply(4, 7)\n",
    "print(result) "
   ]
  },
  {
   "cell_type": "code",
   "execution_count": 103,
   "id": "04a24eba-e93d-48cb-afc2-e460a3092222",
   "metadata": {},
   "outputs": [],
   "source": [
    "#4 With reduce() for Accumulation: \n",
    "#The reduce() function from the functools module is another case where lambda functions are frequently used to accumulate a result over an iterable."
   ]
  },
  {
   "cell_type": "code",
   "execution_count": 104,
   "id": "5aaea715-7c47-4927-a23f-3a9bde8bbc61",
   "metadata": {},
   "outputs": [
    {
     "name": "stdout",
     "output_type": "stream",
     "text": [
      "24\n"
     ]
    }
   ],
   "source": [
    "from functools import reduce\n",
    "\n",
    "# Lambda function to compute the product of all numbers in a list\n",
    "product = reduce(lambda x, y: x * y, [1, 2, 3, 4])\n",
    "print(product)  "
   ]
  },
  {
   "cell_type": "markdown",
   "id": "fbc1382e-0272-4a97-bf53-3fbdfe4b269f",
   "metadata": {},
   "source": [
    "##9 Explain the purpose and usage of the `map()` function in Python"
   ]
  },
  {
   "cell_type": "code",
   "execution_count": 105,
   "id": "ca3e60a6-de66-4870-913d-e641b11a1f05",
   "metadata": {},
   "outputs": [],
   "source": [
    "#The map() function in Python is used to apply a given function to every item in an iterable (like a list, tuple, or string) and return a map object (an iterator) with the results. It's a convenient way to process items in a collection without writing explicit loops. The map() function is particularly useful when you want to transform data in bulk using a simple function."
   ]
  },
  {
   "cell_type": "code",
   "execution_count": 106,
   "id": "e6aa1289-85a4-4879-8183-30d0e9afb95a",
   "metadata": {},
   "outputs": [
    {
     "name": "stdout",
     "output_type": "stream",
     "text": [
      "[1, 4, 9, 16, 25]\n"
     ]
    }
   ],
   "source": [
    "# Function to square a number\n",
    "def square(x):\n",
    "    return x * x\n",
    "\n",
    "# List of numbers\n",
    "numbers = [1, 2, 3, 4, 5]\n",
    "\n",
    "# Use map() to apply square to each number in the list\n",
    "squared_numbers = map(square, numbers)\n",
    "\n",
    "# Convert the map object to a list and print it\n",
    "print(list(squared_numbers))  "
   ]
  },
  {
   "cell_type": "code",
   "execution_count": 107,
   "id": "a79bd4aa-0584-4788-9f45-83bd7a7133ef",
   "metadata": {},
   "outputs": [],
   "source": [
    "#Usage with Lambda Functions\n",
    "#map() is often used with lambda functions to define simple functions in place, without the need for a separate named function."
   ]
  },
  {
   "cell_type": "code",
   "execution_count": 108,
   "id": "a1dc31e2-b3c8-4864-be2f-323a5b10bbb0",
   "metadata": {},
   "outputs": [
    {
     "name": "stdout",
     "output_type": "stream",
     "text": [
      "[1, 4, 9, 16, 25]\n"
     ]
    }
   ],
   "source": [
    "# Use map() with a lambda function to square each number\n",
    "squared_numbers = map(lambda x: x * x, numbers)\n",
    "\n",
    "print(list(squared_numbers)) "
   ]
  },
  {
   "cell_type": "code",
   "execution_count": 109,
   "id": "df2aedf9-859c-4a71-a558-34869ab79fb3",
   "metadata": {},
   "outputs": [],
   "source": [
    "#Working with Multiple Iterables\n",
    "#The map() function can also accept multiple iterables, in which case the function must take as many arguments as there are iterables. It will apply the function to the corresponding elements from all the iterables in parallel, stopping when the shortest iterable is exhausted."
   ]
  },
  {
   "cell_type": "code",
   "execution_count": 110,
   "id": "08c2be0f-1e86-4f93-afe3-a71a05e5a0e9",
   "metadata": {},
   "outputs": [
    {
     "name": "stdout",
     "output_type": "stream",
     "text": [
      "[5, 7, 9]\n"
     ]
    }
   ],
   "source": [
    "# Two lists of numbers\n",
    "numbers1 = [1, 2, 3]\n",
    "numbers2 = [4, 5, 6]\n",
    "\n",
    "# Use map() to add corresponding elements from the two lists\n",
    "sum_numbers = map(lambda x, y: x + y, numbers1, numbers2)\n",
    "\n",
    "print(list(sum_numbers))  "
   ]
  },
  {
   "cell_type": "code",
   "execution_count": 111,
   "id": "c1cbd390-4938-4a2f-b94c-cfa6efb52293",
   "metadata": {},
   "outputs": [],
   "source": [
    "#Converting the Map Object to Other Collections\n",
    "#The object returned by map() is a map object, which is an iterator. You need to convert it to a list, tuple, set, etc., to access the processed results."
   ]
  },
  {
   "cell_type": "code",
   "execution_count": 112,
   "id": "0e9a026e-d957-47de-81d3-ba27fc6b38a6",
   "metadata": {},
   "outputs": [
    {
     "name": "stdout",
     "output_type": "stream",
     "text": [
      "[2, 4, 6, 8, 10]\n",
      "{2, 4, 6, 8, 10}\n",
      "(2, 4, 6, 8, 10)\n"
     ]
    }
   ],
   "source": [
    "# Convert the map object to a list\n",
    "result_list = list(map(lambda x: x * 2, numbers))\n",
    "print(result_list) \n",
    "\n",
    "# Convert the map object to a set\n",
    "result_set = set(map(lambda x: x * 2, numbers))\n",
    "print(result_set)  \n",
    "\n",
    "# Convert the map object to a tuple\n",
    "result_tuple = tuple(map(lambda x: x * 2, numbers))\n",
    "print(result_tuple)  "
   ]
  },
  {
   "cell_type": "markdown",
   "id": "cae241f2-04c1-4397-a37c-f8bfd1e4933d",
   "metadata": {},
   "source": [
    "##10  What is the difference between `map()`, `reduce()`, and `filter()` functions in Python?"
   ]
  },
  {
   "cell_type": "code",
   "execution_count": 113,
   "id": "d086d5b2-f19f-47b4-84d2-500b0b99be9e",
   "metadata": {},
   "outputs": [],
   "source": [
    "#map(): Use when you need to apply a function to every element of an iterable. Example: squaring numbers, converting strings to lowercase.\n",
    "\n",
    "#filter(): Use when you need to select or filter elements based on a condition. Example: selecting even numbers, removing null values.\n",
    "\n",
    "#reduce(): Use when you need to reduce an iterable to a single cumulative value. Example: summing a list, multiplying all elements. (Note: reduce() requires importing from the functools module in Python 3)."
   ]
  },
  {
   "cell_type": "code",
   "execution_count": 114,
   "id": "4b8fb1ac-8348-4a5b-bd64-159d6bba0812",
   "metadata": {},
   "outputs": [
    {
     "name": "stdout",
     "output_type": "stream",
     "text": [
      "[1, 4, 9, 16]\n"
     ]
    }
   ],
   "source": [
    "#map\n",
    "numbers = [1, 2, 3, 4]\n",
    "# Apply a function to square each number\n",
    "squares = map(lambda x: x * x, numbers)\n",
    "print(list(squares))  "
   ]
  },
  {
   "cell_type": "code",
   "execution_count": 115,
   "id": "99347e06-f764-4c7b-8e84-781dcab08856",
   "metadata": {},
   "outputs": [
    {
     "name": "stdout",
     "output_type": "stream",
     "text": [
      "[2, 4, 6]\n"
     ]
    }
   ],
   "source": [
    "#filter\n",
    "numbers = [1, 2, 3, 4, 5, 6]\n",
    "# Filter out only even numbers\n",
    "evens = filter(lambda x: x % 2 == 0, numbers)\n",
    "print(list(evens))  "
   ]
  },
  {
   "cell_type": "code",
   "execution_count": 116,
   "id": "7995c219-ce63-4327-8533-1fcb0b717e22",
   "metadata": {},
   "outputs": [
    {
     "name": "stdout",
     "output_type": "stream",
     "text": [
      "10\n"
     ]
    }
   ],
   "source": [
    "#reduce\n",
    "from functools import reduce\n",
    "numbers = [1, 2, 3, 4]\n",
    "# Sum all numbers in the list\n",
    "total = reduce(lambda x, y: x + y, numbers)\n",
    "print(total) "
   ]
  },
  {
   "cell_type": "code",
   "execution_count": null,
   "id": "a5a05991-fee8-4dc8-a5c4-727fe413d400",
   "metadata": {},
   "outputs": [],
   "source": []
  }
 ],
 "metadata": {
  "kernelspec": {
   "display_name": "Python 3 (ipykernel)",
   "language": "python",
   "name": "python3"
  },
  "language_info": {
   "codemirror_mode": {
    "name": "ipython",
    "version": 3
   },
   "file_extension": ".py",
   "mimetype": "text/x-python",
   "name": "python",
   "nbconvert_exporter": "python",
   "pygments_lexer": "ipython3",
   "version": "3.12.4"
  }
 },
 "nbformat": 4,
 "nbformat_minor": 5
}
